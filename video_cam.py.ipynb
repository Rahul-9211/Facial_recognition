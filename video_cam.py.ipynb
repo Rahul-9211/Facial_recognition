{
 "cells": [
  {
   "cell_type": "code",
   "execution_count": null,
   "metadata": {
    "scrolled": true
   },
   "outputs": [],
   "source": [
    "\n",
    "\"\"\"\n",
    "Created on Sat Aug  22 11:43:01 2020\n",
    "\n",
    "@author: Rahul\n",
    "\"\"\"\n",
    "import os\n",
    "import cv2\n",
    "import sys\n",
    "\n",
    "# Get user supplied values\n",
    "\n",
    "cascPath = \"haarcascade_frontalface_default.xml\"\n",
    "faceCascade=cv2.CascadeClassifier(cascPath)\n",
    "\n",
    "# Create the haar cascade\n",
    "video_capture = cv2.VideoCapture(0)\n",
    "\n",
    "\n",
    "while True:\n",
    "    ret, frame =video_capture.read()\n",
    "    gray=cv2.cvtColor(frame,cv2.COLOR_BGR2GRAY)\n",
    "\n",
    "# Detect faces in the image\n",
    "    faces = faceCascade.detectMultiScale(\n",
    "        gray,\n",
    "        scaleFactor=1.1,\n",
    "        minNeighbors=5,\n",
    "        minSize=(30, 30),# means 30*30 matrix\n",
    "        flags = cv2.CASCADE_SCALE_IMAGE\n",
    ")\n",
    "\n",
    "\n",
    "\n",
    "# Draw a rectangle around the faces\n",
    "    for (x, y, w, h) in faces:\n",
    "        cv2.rectangle(frame, (x, y), (x+w, y+h), (0, 255, 0), 2)\n",
    "#Display the resulting frame    \n",
    "    cv2.imshow('Video',frame)\n",
    "    \n",
    "\n",
    "    if cv2.waitKey(1) & 0xFF== ord('q'):\n",
    "        break\n",
    "# When everything is done,release the capture\n",
    "video_capture.release()\n",
    "cv2.destroyAllWindows()"
   ]
  },
  {
   "cell_type": "code",
   "execution_count": null,
   "metadata": {},
   "outputs": [],
   "source": []
  },
  {
   "cell_type": "code",
   "execution_count": null,
   "metadata": {},
   "outputs": [],
   "source": []
  }
 ],
 "metadata": {
  "kernelspec": {
   "display_name": "Python 3",
   "language": "python",
   "name": "python3"
  },
  "language_info": {
   "codemirror_mode": {
    "name": "ipython",
    "version": 3
   },
   "file_extension": ".py",
   "mimetype": "text/x-python",
   "name": "python",
   "nbconvert_exporter": "python",
   "pygments_lexer": "ipython3",
   "version": "3.7.3"
  }
 },
 "nbformat": 4,
 "nbformat_minor": 2
}
